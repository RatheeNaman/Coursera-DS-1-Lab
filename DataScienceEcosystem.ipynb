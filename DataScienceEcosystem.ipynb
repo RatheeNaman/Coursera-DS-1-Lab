{
 "cells": [
  {
   "cell_type": "markdown",
   "id": "7f7d5a48-6136-4823-839b-91bc687adde2",
   "metadata": {},
   "source": [
    "# Data Science Tools and Ecosystem"
   ]
  },
  {
   "cell_type": "markdown",
   "id": "e39e7221-0158-4f10-aacc-fdf0b6f1a9f4",
   "metadata": {},
   "source": [
    "In this notebook, Data Science Tools and Ecosystem are summarized."
   ]
  },
  {
   "cell_type": "markdown",
   "id": "efe8af34-b1a5-4d19-9615-a4fa2e71b27c",
   "metadata": {},
   "source": [
    "**Objectives:**"
   ]
  },
  {
   "cell_type": "markdown",
   "id": "7327b718-d2c0-4463-9683-c352a6bb7861",
   "metadata": {},
   "source": [
    "-List popular languages for Data Science.\n",
    "-List popular libraries used by Data Scientists\n",
    "-List popular Data science Tools\n",
    "-"
   ]
  },
  {
   "cell_type": "markdown",
   "id": "69b84c29-35ac-4c5c-8597-db4d999fb4e1",
   "metadata": {},
   "source": [
    "Some of the popular languages that Data Scientists use are:\n",
    "1. Python\n",
    "2. R\n",
    "3. Java\n",
    "4. Julia"
   ]
  },
  {
   "cell_type": "markdown",
   "id": "86a74141-b5ec-4fac-b4b9-bad50c67c208",
   "metadata": {},
   "source": [
    "Some of the commonly used libraries used by Data Scientists include:\n",
    "1. Numpy\n",
    "2. MatPlotlib\n",
    "3. Tensorflow\n",
    "4. SciPy"
   ]
  },
  {
   "cell_type": "markdown",
   "id": "021fc8c0-29d8-4c9c-84ae-6db6c6b18589",
   "metadata": {},
   "source": [
    "| Data Science Tools|\n",
    "|-------------------|\n",
    "|Apache Spark|\n",
    "|Tensor Flow|\n",
    "|Scikit Learn|"
   ]
  },
  {
   "cell_type": "markdown",
   "id": "f97eb669-78ef-4d63-a0fc-88851dc75b7a",
   "metadata": {},
   "source": [
    "### Below are a few examples of evaluating arithmetic expressions in Python"
   ]
  },
  {
   "cell_type": "code",
   "execution_count": 1,
   "id": "c414dc60-bec1-4fd2-bc7b-371fdec0aa73",
   "metadata": {},
   "outputs": [],
   "source": [
    "#This a simple arithmetic expression to mutiply then add integers"
   ]
  },
  {
   "cell_type": "code",
   "execution_count": 2,
   "id": "746eca8a-51bf-49d0-b3b1-7e963e8ecd93",
   "metadata": {},
   "outputs": [
    {
     "name": "stdout",
     "output_type": "stream",
     "text": [
      "17\n"
     ]
    }
   ],
   "source": [
    "print((3*4)+5)"
   ]
  },
  {
   "cell_type": "code",
   "execution_count": 3,
   "id": "2833248d-bbe9-45b5-98b7-c343070c6531",
   "metadata": {},
   "outputs": [],
   "source": [
    "#This will convert 200 minutes to hours by diving by 60"
   ]
  },
  {
   "cell_type": "code",
   "execution_count": 4,
   "id": "5f2e7b8a-782e-4e7e-8472-c26be65aa76c",
   "metadata": {},
   "outputs": [
    {
     "name": "stdout",
     "output_type": "stream",
     "text": [
      "3.3333333333333335\n"
     ]
    }
   ],
   "source": [
    "print(200/60)"
   ]
  },
  {
   "cell_type": "markdown",
   "id": "68397dd3-3dbe-4aca-9c75-73e4d10ae95e",
   "metadata": {},
   "source": [
    "## Author\n",
    "Naman Rathee"
   ]
  },
  {
   "cell_type": "code",
   "execution_count": null,
   "id": "ff2eaf87-16ed-412c-991f-1653bf54147c",
   "metadata": {},
   "outputs": [],
   "source": []
  }
 ],
 "metadata": {
  "kernelspec": {
   "display_name": "Python 3 (ipykernel)",
   "language": "python",
   "name": "python3"
  },
  "language_info": {
   "codemirror_mode": {
    "name": "ipython",
    "version": 3
   },
   "file_extension": ".py",
   "mimetype": "text/x-python",
   "name": "python",
   "nbconvert_exporter": "python",
   "pygments_lexer": "ipython3",
   "version": "3.12.8"
  }
 },
 "nbformat": 4,
 "nbformat_minor": 5
}
